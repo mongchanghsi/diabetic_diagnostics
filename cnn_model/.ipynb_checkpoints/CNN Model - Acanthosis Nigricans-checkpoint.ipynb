{
 "cells": [
  {
   "cell_type": "markdown",
   "metadata": {},
   "source": [
    "# CNN Model - Acanthosis Nigricans"
   ]
  },
  {
   "cell_type": "code",
   "execution_count": 42,
   "metadata": {},
   "outputs": [],
   "source": [
    "# Imports\n",
    "import tensorflow as tf\n",
    "from functools import partial\n",
    "import matplotlib.pyplot as plt\n",
    "import numpy as np\n",
    "import time\n",
    "from tensorflow.keras import layers, callbacks\n",
    "from tensorflow.keras.models import Sequential\n",
    "import os\n",
    "from datetime import datetime\n",
    "from packaging import version\n",
    "from PIL import Image\n",
    "from sklearn.preprocessing import LabelBinarizer"
   ]
  },
  {
   "cell_type": "markdown",
   "metadata": {},
   "source": [
    "### Hyperparameters"
   ]
  },
  {
   "cell_type": "code",
   "execution_count": 43,
   "metadata": {},
   "outputs": [],
   "source": [
    "# Parameters\n",
    "image_size = 128\n",
    "batch_size = 2\n",
    "val_size = 0.10\n",
    "test_size = 0.10"
   ]
  },
  {
   "cell_type": "markdown",
   "metadata": {},
   "source": [
    "### Preprocessing Pipeline"
   ]
  },
  {
   "cell_type": "code",
   "execution_count": 44,
   "metadata": {},
   "outputs": [
    {
     "name": "stdout",
     "output_type": "stream",
     "text": [
      "acanthosis_nigricans_negative image count: 53\n",
      "diabetic_foot_positive image count: 41\n",
      "acanthosis_nigricans_positive image count: 96\n",
      "diabetic_foot_negative image count: 34\n",
      "We have a total of 224 in our dataset\n",
      "\n",
      "{'acanthosis_nigricans_negative': 53, 'diabetic_foot_positive': 41, 'acanthosis_nigricans_positive': 96, 'diabetic_foot_negative': 34}\n"
     ]
    }
   ],
   "source": [
    "images = []\n",
    "folder = os.path.join(\"Data\")\n",
    "img_widths = []\n",
    "img_heights = []\n",
    "total_images = 0\n",
    "size = {}\n",
    "for sub_folder in os.listdir(folder):\n",
    "    if sub_folder == \".DS_Store\":\n",
    "        continue\n",
    "    sub_path = os.path.join(folder, sub_folder)\n",
    "    sub_folder_images = 0\n",
    "    for filename in os.listdir(sub_path):\n",
    "        if filename == '.DS_Store':\n",
    "            continue\n",
    "        img = Image.open(os.path.join(sub_path, filename))\n",
    "        if img is not None:\n",
    "            sub_folder_images += 1\n",
    "            width, height = img.size\n",
    "            if width not in img_widths:\n",
    "                img_widths.append(width)\n",
    "            if height not in img_heights:\n",
    "                img_heights.append(height)\n",
    "        else:\n",
    "            print(\"Presence of None Images\")\n",
    "    size[sub_folder] = sub_folder_images\n",
    "    print(f\"{sub_folder} image count: {sub_folder_images}\")\n",
    "    total_images += sub_folder_images\n",
    "\n",
    "print(f\"We have a total of {total_images} in our dataset\\n\")\n",
    "print(size)\n",
    "# print(f\"Our dataset contains images with the following widths: {img_widths}\")\n",
    "# print(f\"Our dataset contains images with the following heights: {img_heights}\")\n",
    "        \n",
    "# minimum_width = min(img_widths)\n",
    "# minimum_height = min(img_heights)\n",
    "\n",
    "# print(f\"The minimum width is {minimum_width}\")\n",
    "# print(f\"The minimum height is {minimum_height}\")"
   ]
  },
  {
   "cell_type": "code",
   "execution_count": 45,
   "metadata": {},
   "outputs": [],
   "source": [
    "# Preprocessing Function\n",
    "def preprocess(filename, label, encoder, width = image_size, height = image_size):\n",
    "    #Retrieve image\n",
    "    image_string = tf.io.read_file(filename)\n",
    "    img = tf.image.decode_jpeg(image_string, channels=3) #channels set to 1 as it is greyscale\n",
    "    #Normalise the pixel values from 0-255 to 0-1\n",
    "    img = tf.image.convert_image_dtype(img, tf.float32)\n",
    "    #Resize the image\n",
    "    img = tf.image.resize(img, [height, width])\n",
    "    #Encode the label\n",
    "    encoded_label = encoder.transform([label])[0]\n",
    "    return img, encoded_label\n",
    "\n",
    "# Merge Dataset\n",
    "def merge_dataset(dataset_list):\n",
    "    for i in range(len(dataset_list)):\n",
    "        if i == 0:\n",
    "            merged_dataset = dataset_list[i]\n",
    "        else:\n",
    "            merged_dataset = merged_dataset.concatenate(dataset_list[i])\n",
    "    return merged_dataset\n",
    "\n",
    "# Split Dataset\n",
    "def split_dataset(img_datasets, dataset_sizes,  val_size = 0.10, test_size = 0.10):\n",
    "    #Obtain the training size\n",
    "    train_size = 1 - val_size - test_size #test_size + train_size + val_size = 1\n",
    "    \n",
    "    #Python list to store the tf.dataset from the different classes\n",
    "    full_train_list = []\n",
    "    full_val_list = []\n",
    "    full_test_list = []\n",
    "    \n",
    "    for img_dataset, dataset_size in zip(img_datasets, dataset_sizes):\n",
    "        train_numbers = int(train_size * dataset_size)\n",
    "        test_numbers = int(test_size * dataset_size)\n",
    "        val_numbers = int(val_size * dataset_size)\n",
    "        \n",
    "        #shuffle the dataset and split it to the respective set\n",
    "        img_dataset = img_dataset.shuffle(dataset_size, reshuffle_each_iteration=False)\n",
    "        train_dataset = img_dataset.take(train_numbers)\n",
    "        val_test_dataset = img_dataset.skip(train_numbers)\n",
    "        val_dataset = val_test_dataset.take(val_numbers)\n",
    "        test_dataset = val_test_dataset.skip(val_numbers)\n",
    "        \n",
    "        #Append the class train/val/test dataset to the list\n",
    "        full_train_list.append(train_dataset) \n",
    "        full_val_list.append(val_dataset)\n",
    "        full_test_list.append(test_dataset)\n",
    "    \n",
    "    #Merge all the classes' dataset in the list into one single dataset for train/val/test\n",
    "    train_dataset = merge_dataset(full_train_list)\n",
    "    val_dataset = merge_dataset(full_val_list)\n",
    "    test_dataset = merge_dataset(full_test_list)\n",
    "    \n",
    "    #Shuffle the Datasets\n",
    "    train_dataset = train_dataset.shuffle(10000)\n",
    "    val_dataset = val_dataset.shuffle(10000)\n",
    "    test_dataset = test_dataset.shuffle(10000)\n",
    "    \n",
    "    return train_dataset, val_dataset, test_dataset"
   ]
  },
  {
   "cell_type": "code",
   "execution_count": 46,
   "metadata": {},
   "outputs": [
    {
     "name": "stdout",
     "output_type": "stream",
     "text": [
      "[[1]\n",
      " [0]]\n"
     ]
    }
   ],
   "source": [
    "#Encoder \n",
    "encoder = LabelBinarizer()\n",
    "y_data_values = np.array(['AN-POSITIVE', 'AN-NEGATIVE'])\n",
    "encoded = encoder.fit_transform(y_data_values)\n",
    "print(encoded)"
   ]
  },
  {
   "cell_type": "code",
   "execution_count": 47,
   "metadata": {},
   "outputs": [],
   "source": [
    "#Store the image filenames into a tf.dataset\n",
    "an_positive_dataset = tf.data.Dataset.list_files(\"Data/acanthosis_nigricans_positive/*.jpeg\", shuffle = False)\n",
    "an_negative_dataset = tf.data.Dataset.list_files(\"Data/acanthosis_nigricans_negative/*.jpeg\", shuffle = False)\n",
    "\n",
    "#map the dataset to the preprocessing function\n",
    "pf = partial(preprocess, label = \"AN-POSITIVE\", encoder = encoder)\n",
    "an_positive_image_dataset = an_positive_dataset.map(pf)\n",
    "\n",
    "pf = partial(preprocess, label = \"AN-NEGATIVE\", encoder = encoder)\n",
    "an_negative_image_dataset = an_negative_dataset.map(pf)\n",
    "\n",
    "#Index of img_dataset must correspond to the index of the dataset_sizes\n",
    "img_datasets = [an_positive_image_dataset, an_negative_image_dataset]\n",
    "dataset_sizes = [size[\"acanthosis_nigricans_positive\"], size[\"acanthosis_nigricans_negative\"]]\n",
    "# #Split the dataset into train/val/test\n",
    "train_dataset, val_dataset, test_dataset = split_dataset(img_datasets, dataset_sizes,\n",
    "                                                        val_size = val_size, test_size = test_size)\n",
    "\n",
    "# #Batch and preload the datasets\n",
    "train_dataset = train_dataset.batch(batch_size)\n",
    "# train_dataset = train_dataset.prefetch(1)\n",
    "\n",
    "test_dataset = test_dataset.batch(batch_size)\n",
    "# test_dataset = test_dataset.prefetch(1)\n",
    "\n",
    "val_dataset = val_dataset.batch(batch_size)\n",
    "# val_dataset = val_dataset.prefetch(1)"
   ]
  },
  {
   "cell_type": "code",
   "execution_count": 48,
   "metadata": {},
   "outputs": [],
   "source": [
    "# Display a single image\n",
    "def displayImage(image, label):\n",
    "    plt.figure()\n",
    "    plt.title(label.numpy())\n",
    "    plt.imshow(image)\n",
    "\n",
    "# Display Image before Batch\n",
    "# for image, label in an_positive_image_dataset.take(3):\n",
    "#     displayImage(image, label)\n",
    "\n",
    "# Display Image after Batch\n",
    "for image, label in train_dataset.take(1):\n",
    "    for i in range(1):\n",
    "        displayImage(image[i], label[i])"
   ]
  },
  {
   "cell_type": "code",
   "execution_count": 49,
   "metadata": {},
   "outputs": [],
   "source": [
    "# Optimize dataset\n",
    "AUTOTUNE = tf.data.AUTOTUNE\n",
    "train_dataset = train_dataset.cache().prefetch(buffer_size=AUTOTUNE)\n",
    "test_dataset = test_dataset.cache().prefetch(buffer_size=AUTOTUNE)\n",
    "val_dataset = val_dataset.cache().prefetch(buffer_size=AUTOTUNE)"
   ]
  },
  {
   "cell_type": "markdown",
   "metadata": {},
   "source": [
    "### Base Model"
   ]
  },
  {
   "cell_type": "code",
   "execution_count": 50,
   "metadata": {},
   "outputs": [],
   "source": [
    "# Base Model\n",
    "model_input = tf.keras.Input(shape=(image_size, image_size, 3), batch_size=batch_size, dtype='float32', name='input')\n",
    "x = tf.keras.layers.Conv2D(16, 3, padding='same', activation='relu')(model_input)\n",
    "x = tf.keras.layers.MaxPooling2D()(x)\n",
    "x = tf.keras.layers.Conv2D(32, 3, padding='same', activation='relu')(x)\n",
    "x = tf.keras.layers.MaxPooling2D()(x)\n",
    "x = tf.keras.layers.Conv2D(64, 3, padding='same', activation='relu')(x)\n",
    "x = tf.keras.layers.MaxPooling2D()(x)\n",
    "x = tf.keras.layers.Flatten()(x)\n",
    "x = tf.keras.layers.Dense(128, activation='relu')(x)\n",
    "model_output = tf.keras.layers.Dense(2, name='output')(x)\n",
    "model = tf.keras.Model(inputs=[model_input], outputs=[model_output])"
   ]
  },
  {
   "cell_type": "code",
   "execution_count": 51,
   "metadata": {},
   "outputs": [
    {
     "data": {
      "image/png": "[encoded data removed]",
      "text/plain": [
       "<IPython.core.display.Image object>"
      ]
     },
     "execution_count": 51,
     "metadata": {},
     "output_type": "execute_result"
    }
   ],
   "source": [
    "# Print model\n",
    "dot_img_file = '/Users/mongchanghsi/Desktop/SUTD/Thesis/code/cnn_model/model_1.png'\n",
    "tf.keras.utils.plot_model(model, to_file=dot_img_file, expand_nested=True,show_shapes=True)"
   ]
  },
  {
   "cell_type": "code",
   "execution_count": 52,
   "metadata": {},
   "outputs": [],
   "source": [
    "# Define Loss function and Optimiser\n",
    "model.compile(optimizer='adam',\n",
    "              loss=tf.keras.losses.BinaryCrossentropy(),\n",
    "              metrics=['accuracy'])"
   ]
  },
  {
   "cell_type": "code",
   "execution_count": 53,
   "metadata": {},
   "outputs": [
    {
     "name": "stdout",
     "output_type": "stream",
     "text": [
      "\n",
      "Model Summary\n",
      "----------------------------------------\n",
      "\n",
      "Model: \"model_1\"\n",
      "_________________________________________________________________\n",
      "Layer (type)                 Output Shape              Param #   \n",
      "=================================================================\n",
      "input (InputLayer)           [(2, 128, 128, 3)]        0         \n",
      "_________________________________________________________________\n",
      "conv2d_3 (Conv2D)            (2, 128, 128, 16)         448       \n",
      "_________________________________________________________________\n",
      "max_pooling2d_3 (MaxPooling2 (2, 64, 64, 16)           0         \n",
      "_________________________________________________________________\n",
      "conv2d_4 (Conv2D)            (2, 64, 64, 32)           4640      \n",
      "_________________________________________________________________\n",
      "max_pooling2d_4 (MaxPooling2 (2, 32, 32, 32)           0         \n",
      "_________________________________________________________________\n",
      "conv2d_5 (Conv2D)            (2, 32, 32, 64)           18496     \n",
      "_________________________________________________________________\n",
      "max_pooling2d_5 (MaxPooling2 (2, 16, 16, 64)           0         \n",
      "_________________________________________________________________\n",
      "flatten_1 (Flatten)          (2, 16384)                0         \n",
      "_________________________________________________________________\n",
      "dense_1 (Dense)              (2, 128)                  2097280   \n",
      "_________________________________________________________________\n",
      "output (Dense)               (2, 2)                    258       \n",
      "=================================================================\n",
      "Total params: 2,121,122\n",
      "Trainable params: 2,121,122\n",
      "Non-trainable params: 0\n",
      "_________________________________________________________________\n"
     ]
    }
   ],
   "source": [
    "print(f'''\n",
    "Model Summary\n",
    "{'-' * 40}\n",
    "''')\n",
    "model.summary()"
   ]
  },
  {
   "cell_type": "markdown",
   "metadata": {},
   "source": [
    "### Training the model"
   ]
  },
  {
   "cell_type": "code",
   "execution_count": 54,
   "metadata": {},
   "outputs": [
    {
     "name": "stdout",
     "output_type": "stream",
     "text": [
      "Epoch 1/10\n",
      "59/59 [==============================] - 2s 29ms/step - loss: 9.2767 - accuracy: 0.4667 - val_loss: 7.6811 - val_accuracy: 0.3571\n",
      "Epoch 2/10\n",
      "59/59 [==============================] - 1s 24ms/step - loss: 7.6806 - accuracy: 0.3633 - val_loss: 7.6811 - val_accuracy: 0.3571\n",
      "Epoch 3/10\n",
      "59/59 [==============================] - 1s 24ms/step - loss: 7.6806 - accuracy: 0.3633 - val_loss: 7.6811 - val_accuracy: 0.3571\n",
      "Epoch 4/10\n",
      "59/59 [==============================] - 1s 24ms/step - loss: 7.6806 - accuracy: 0.3633 - val_loss: 7.6811 - val_accuracy: 0.3571\n",
      "Epoch 5/10\n",
      "59/59 [==============================] - 1s 25ms/step - loss: 7.6806 - accuracy: 0.3633 - val_loss: 7.6811 - val_accuracy: 0.3571\n",
      "Epoch 6/10\n",
      "59/59 [==============================] - 2s 27ms/step - loss: 7.6806 - accuracy: 0.3633 - val_loss: 7.6811 - val_accuracy: 0.3571\n",
      "Epoch 7/10\n",
      "59/59 [==============================] - 1s 25ms/step - loss: 7.6806 - accuracy: 0.3633 - val_loss: 7.6811 - val_accuracy: 0.3571\n",
      "Epoch 8/10\n",
      "59/59 [==============================] - 1s 25ms/step - loss: 7.6806 - accuracy: 0.3633 - val_loss: 7.6811 - val_accuracy: 0.3571\n",
      "Epoch 9/10\n",
      "59/59 [==============================] - 2s 26ms/step - loss: 7.6806 - accuracy: 0.3633 - val_loss: 7.6811 - val_accuracy: 0.3571\n",
      "Epoch 10/10\n",
      "59/59 [==============================] - 1s 25ms/step - loss: 7.6806 - accuracy: 0.3633 - val_loss: 7.6811 - val_accuracy: 0.3571\n"
     ]
    }
   ],
   "source": [
    "# Train model\n",
    "epochs=10\n",
    "history = model.fit(\n",
    "  train_dataset,\n",
    "  validation_data=val_dataset,\n",
    "  epochs=epochs,\n",
    ")"
   ]
  },
  {
   "cell_type": "code",
   "execution_count": 55,
   "metadata": {},
   "outputs": [
    {
     "name": "stdout",
     "output_type": "stream",
     "text": [
      "9/9 [==============================] - 0s 4ms/step - loss: 7.4546 - accuracy: 0.3333\n"
     ]
    }
   ],
   "source": [
    "# Test the model\n",
    "results = model.evaluate(test_dataset)"
   ]
  },
  {
   "cell_type": "markdown",
   "metadata": {},
   "source": [
    "## Test"
   ]
  },
  {
   "cell_type": "markdown",
   "metadata": {},
   "source": [
    "### Preprocessing Function for the Test"
   ]
  },
  {
   "cell_type": "code",
   "execution_count": 56,
   "metadata": {},
   "outputs": [],
   "source": [
    "def preprocess_actual_run(filename, width = image_size, height = image_size):\n",
    "    #Retrieve image\n",
    "    image_string = tf.io.read_file(filename)\n",
    "    img = tf.image.decode_jpeg(image_string, channels=3) #channels set to 1 as it is greyscale\n",
    "    #Normalise the pixel values from 0-255 to 0-1\n",
    "    img = tf.image.convert_image_dtype(img, tf.float32)\n",
    "    #Resize the image\n",
    "    img = tf.image.resize(img, [height, width])\n",
    "    return img"
   ]
  },
  {
   "cell_type": "markdown",
   "metadata": {},
   "source": [
    "### Prediction using Positive Image"
   ]
  },
  {
   "cell_type": "code",
   "execution_count": 57,
   "metadata": {},
   "outputs": [
    {
     "name": "stdout",
     "output_type": "stream",
     "text": [
      "This image most likely belongs to negative with a 100.00 percent confidence.\n"
     ]
    }
   ],
   "source": [
    "positive_test_image = tf.data.Dataset.list_files(\"Data/acanthosis_nigricans_positive/acanthosis nigricans_1.jpeg\")\n",
    "\n",
    "pf = partial(preprocess_actual_run)\n",
    "positive_test_image_ds = positive_test_image.map(pf)\n",
    "for image in positive_test_image_ds.take(1):\n",
    "    img_array = tf.expand_dims(image, 0)\n",
    "predictions = model.predict(img_array)\n",
    "score = tf.nn.softmax(predictions[0])\n",
    "\n",
    "if encoded[np.argmax(score)] == [0]: classification='positive'\n",
    "if encoded[np.argmax(score)] == [1]: classification='negative'\n",
    "\n",
    "print(\n",
    "    \"This image most likely belongs to {} with a {:.2f} percent confidence.\"\n",
    "    .format(classification, 100 * np.max(score))\n",
    ")"
   ]
  },
  {
   "cell_type": "markdown",
   "metadata": {},
   "source": [
    "### Prediction using Negative Image"
   ]
  },
  {
   "cell_type": "code",
   "execution_count": 58,
   "metadata": {},
   "outputs": [
    {
     "name": "stdout",
     "output_type": "stream",
     "text": [
      "This image most likely belongs to negative with a 100.00 percent confidence.\n"
     ]
    }
   ],
   "source": [
    "negative_test_image = tf.data.Dataset.list_files(\"Data/acanthosis_nigricans_negative/nape_1.jpeg\")\n",
    "pf = partial(preprocess_actual_run)\n",
    "negative_test_image_ds = positive_test_image.map(pf)\n",
    "for image in negative_test_image_ds.take(1):\n",
    "    img_array = tf.expand_dims(image, 0)\n",
    "predictions = model.predict(img_array)\n",
    "score = tf.nn.softmax(predictions[0])\n",
    "\n",
    "if encoded[np.argmax(score)] == [0]: classification='positive'\n",
    "if encoded[np.argmax(score)] == [1]: classification='negative'\n",
    "\n",
    "print(\n",
    "    \"This image most likely belongs to {} with a {:.2f} percent confidence.\"\n",
    "    .format(classification, 100 * np.max(score))\n",
    ")"
   ]
  },
  {
   "cell_type": "code",
   "execution_count": null,
   "metadata": {},
   "outputs": [],
   "source": []
  },
  {
   "cell_type": "code",
   "execution_count": null,
   "metadata": {},
   "outputs": [],
   "source": []
  },
  {
   "cell_type": "code",
   "execution_count": null,
   "metadata": {},
   "outputs": [],
   "source": []
  }
 ],
 "metadata": {
  "kernelspec": {
   "display_name": "Python 3",
   "language": "python",
   "name": "python3"
  },
  "language_info": {
   "codemirror_mode": {
    "name": "ipython",
    "version": 3
   },
   "file_extension": ".py",
   "mimetype": "text/x-python",
   "name": "python",
   "nbconvert_exporter": "python",
   "pygments_lexer": "ipython3",
   "version": "3.8.5"
  }
 },
 "nbformat": 4,
 "nbformat_minor": 4
}
